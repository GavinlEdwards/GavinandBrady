{
 "cells": [
  {
   "cell_type": "code",
   "execution_count": 175,
   "id": "0d2ffcbf-fb64-437a-943a-adfdbcfc3802",
   "metadata": {},
   "outputs": [],
   "source": [
    "#!pip install nasdaq-data-link\n",
    "import nasdaqdatalink\n",
    "nasdaqdatalink.ApiConfig.api_key = '5BwoEH6x8VTcx9HS8hca'\n",
    "import numpy as np\n",
    "import pandas as pd\n",
    "import matplotlib.pyplot as plt\n",
    "import seaborn as sns"
   ]
  },
  {
   "cell_type": "code",
   "execution_count": 176,
   "id": "082c73e6-6b7c-4b12-8993-81b27dff21cf",
   "metadata": {},
   "outputs": [],
   "source": [
    "AAPLtest = nasdaqdatalink.get_table('SHARADAR/SEP', ticker=['AAPL'])\n",
    "AAPLtrain = pd.read_csv('WIKI-AAPL.csv')\n"
   ]
  },
  {
   "cell_type": "code",
   "execution_count": 177,
   "id": "c30f0fb9-7f39-4aa6-8dfc-9113c87666de",
   "metadata": {},
   "outputs": [],
   "source": [
    "# Drops unneccsary data from AAPL training set\n",
    "AAPLtrain = AAPLtrain.drop('Ex-Dividend',axis = 1)\n",
    "AAPLtrain = AAPLtrain.drop('Split Ratio',axis = 1)\n",
    "AAPLtrain = AAPLtrain.drop('Adj. Open',axis = 1)\n",
    "AAPLtrain = AAPLtrain.drop('Adj. High',axis = 1)\n",
    "AAPLtrain = AAPLtrain.drop('Adj. Low',axis = 1)\n",
    "AAPLtrain = AAPLtrain.drop('Adj. Close',axis = 1)\n",
    "AAPLtrain = AAPLtrain.drop('Adj. Volume',axis = 1)\n",
    "AAPLtrain['Date'] = pd.to_datetime(AAPLtrain['Date'], format='%Y-%m-%d')\n",
    "AAPLtrain['Date'] = pd.to_datetime(AAPLtrain['Date'])\n",
    "\n",
    "AAPLtrain['year'] = AAPLtrain['Date'].dt.year\n",
    "AAPLtrain['month'] = AAPLtrain['Date'].dt.month\n",
    "AAPLtrain['day'] = AAPLtrain['Date'].dt.day\n",
    "\n",
    "reference_date = pd.to_datetime('12-12-1980', format='%d-%m-%Y')\n",
    "AAPLtrain['days_difference'] = (AAPLtrain['Date'] - reference_date).dt.days\n",
    "AAPLtrain = AAPLtrain.drop('Date',axis = 1)"
   ]
  },
  {
   "cell_type": "code",
   "execution_count": 178,
   "id": "ad0bd823-c223-4c2b-a58a-4b8eaa995029",
   "metadata": {},
   "outputs": [],
   "source": [
    "# Drops uneccesary data from AAPL test set\n",
    "AAPLtest = AAPLtest.drop('closeadj',axis = 1)\n",
    "AAPLtest = AAPLtest.drop('closeunadj',axis = 1)\n",
    "AAPLtest = AAPLtest.drop('lastupdated',axis = 1)\n",
    "AAPLtest = AAPLtest.drop('ticker',axis =1)\n",
    "AAPLtest.columns = ['date','Open','High','Low','Close', 'Volume']\n",
    "\n",
    "AAPLtest['date'] = pd.to_datetime(AAPLtest['date'], format='%Y-%m-%d')\n",
    "AAPLtest['date'] = pd.to_datetime(AAPLtest['date'])\n",
    "\n",
    "AAPLtest['year'] = AAPLtest['date'].dt.year\n",
    "AAPLtest['month'] = AAPLtest['date'].dt.month\n",
    "AAPLtest['day'] = AAPLtest['date'].dt.day\n",
    "\n",
    "reference_date = pd.to_datetime('04-09-2018', format='%d-%m-%Y')\n",
    "AAPLtest['days_difference'] = (AAPLtest['date'] - reference_date).dt.days\n",
    "AAPLtest = AAPLtest.drop('date',axis =1)"
   ]
  },
  {
   "cell_type": "code",
   "execution_count": 179,
   "id": "d71f73a5-a8d8-4f58-83af-ace6470410f8",
   "metadata": {},
   "outputs": [],
   "source": [
    "def up_or_down(row):\n",
    "    if row['Open'] < row['Close']:\n",
    "        val = 1\n",
    "    else:\n",
    "        val = 0\n",
    "    return val\n",
    "def percentgain(row):\n",
    "    val = ((row['open']-row['close'])/row['close'])*100\n",
    "    return val\n",
    "AAPLtrain['increased'] = AAPLtrain.apply(up_or_down, axis = 1)\n",
    "AAPLtest['increased'] = AAPLtest.apply(up_or_down, axis=1)"
   ]
  },
  {
   "cell_type": "code",
   "execution_count": 183,
   "id": "446baf50-75c3-44fa-80b8-a28e147aca0c",
   "metadata": {},
   "outputs": [],
   "source": [
    "APPLtrain_csv_data = AAPLtrain.to_csv('APPLtrain.csv', index = True)\n",
    "APPLtest_csv_data = AAPLtest.to_csv('APPLtest.csv', index = True)"
   ]
  },
  {
   "cell_type": "code",
   "execution_count": null,
   "id": "62d773ff-93c9-42a3-bc97-6c5564d36d3e",
   "metadata": {},
   "outputs": [],
   "source": []
  },
  {
   "cell_type": "code",
   "execution_count": null,
   "id": "28d4d415-1ba2-47d0-a6fc-5eb4bcc03886",
   "metadata": {},
   "outputs": [],
   "source": []
  }
 ],
 "metadata": {
  "kernelspec": {
   "display_name": "Python 3 (ipykernel)",
   "language": "python",
   "name": "python3"
  },
  "language_info": {
   "codemirror_mode": {
    "name": "ipython",
    "version": 3
   },
   "file_extension": ".py",
   "mimetype": "text/x-python",
   "name": "python",
   "nbconvert_exporter": "python",
   "pygments_lexer": "ipython3",
   "version": "3.9.1"
  }
 },
 "nbformat": 4,
 "nbformat_minor": 5
}
